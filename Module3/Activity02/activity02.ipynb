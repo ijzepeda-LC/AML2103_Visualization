{
 "cells": [
  {
   "cell_type": "markdown",
   "metadata": {},
   "source": [
    "## Activity 02: Indexing, Slicing, and Iterating\n",
    ">## Ivan Zepeda\n",
    "**C0883949**"
   ]
  },
  {
   "cell_type": "markdown",
   "metadata": {},
   "source": [
    "Our client wants to prove that our dataset is nicely distributed around the mean value of 100.   \n",
    "They asked us to run some tests on several subsections of it to make sure they won't get a non-descriptive section of our data.\n",
    "\n",
    "Look at the mean value of each subtask."
   ]
  },
  {
   "cell_type": "markdown",
   "metadata": {},
   "source": [
    "#### Loading the dataset"
   ]
  },
  {
   "cell_type": "code",
   "execution_count": null,
   "metadata": {},
   "outputs": [],
   "source": []
  },
  {
   "cell_type": "code",
   "execution_count": 1,
   "metadata": {},
   "outputs": [],
   "source": [
    "# importing the necessary dependencies\n",
    "import numpy as np"
   ]
  },
  {
   "cell_type": "code",
   "execution_count": null,
   "metadata": {},
   "outputs": [],
   "source": [
    "# loading the Dataset`\n",
    "dataset = np.genfromtxt('./data/normal_distribution.csv', delimiter=',')"
   ]
  },
  {
   "cell_type": "code",
   "execution_count": 12,
   "metadata": {},
   "outputs": [
    {
     "data": {
      "text/plain": [
       "array([[ 99.14931546, 104.03852715, 107.43534677,  97.85230675,\n",
       "         98.74986914,  98.80833412,  96.81964892,  98.56783189,\n",
       "        101.34745901],\n",
       "       [ 92.02628776,  97.10439252,  99.32066924,  97.24584816,\n",
       "         92.9267508 ,  92.65657752, 105.7197853 , 101.23162942,\n",
       "         93.87155456],\n",
       "       [ 95.66253664,  95.17750125,  90.93318132, 110.18889465,\n",
       "         98.80084371, 105.95297652,  98.37481387, 106.54654286,\n",
       "        107.22482426],\n",
       "       [ 91.37294597, 100.96781394, 100.40118279, 113.42090475,\n",
       "        105.48508838,  91.6604946 , 106.1472841 ,  95.08715803,\n",
       "        103.40412146],\n",
       "       [101.20862522, 103.5730309 , 100.28690912, 105.85269352,\n",
       "         93.37126331, 108.57980357, 100.79478953,  94.20019732,\n",
       "         96.10020311],\n",
       "       [102.80387079,  98.29687616,  93.24376389,  97.24130034,\n",
       "         89.03452725,  96.2832753 , 104.60344836, 101.13442416,\n",
       "         97.62787811],\n",
       "       [106.71751618, 102.97585605,  98.45723272, 100.72418901,\n",
       "        106.39798503,  95.46493436,  94.35373179, 106.83273763,\n",
       "        100.07721494],\n",
       "       [ 96.02548256, 102.82360856, 106.47551845, 101.34745901,\n",
       "        102.45651798,  98.74767493,  97.57544275,  92.5748759 ,\n",
       "         91.37294597],\n",
       "       [105.30350449,  92.87730812, 103.19258339, 104.40518318,\n",
       "        101.29326772, 100.85447132, 101.2226037 , 106.03868807,\n",
       "         97.85230675],\n",
       "       [110.44484313,  93.87155456, 101.5363647 ,  97.65393524,\n",
       "         92.75048583, 101.72074646,  96.96851209, 103.29147111,\n",
       "         99.14931546],\n",
       "       [101.3514185 , 100.37372248, 106.6471081 , 100.61742813,\n",
       "        105.0320535 ,  99.35999981,  98.87007532,  95.85284217,\n",
       "         93.97853495],\n",
       "       [ 97.21315663, 107.02874163, 102.17642112,  96.74630281,\n",
       "         95.93799169, 102.62384733, 105.07475277,  97.59572169,\n",
       "        106.57364584],\n",
       "       [ 95.65982034, 107.22482426, 107.19119932, 102.93039474,\n",
       "         85.98839623,  95.19184343,  91.32093303, 102.35313953,\n",
       "        100.39303522],\n",
       "       [100.39303522,  92.0108226 ,  97.75887636,  93.18884302,\n",
       "        100.44940274, 108.09423367,  96.50342927,  99.58664719,\n",
       "         95.19184343],\n",
       "       [103.1521596 , 109.40523174,  93.83969256,  99.95827854,\n",
       "        101.83462816,  99.69982772, 103.05289628, 103.93383957,\n",
       "        104.15899829],\n",
       "       [106.11454989,  88.80221141,  94.5081787 ,  94.59300658,\n",
       "        101.08830521,  96.34622848,  96.89244283,  98.07122664,\n",
       "        100.28690912],\n",
       "       [ 96.78266211,  99.84251605, 104.03478031, 106.57052697,\n",
       "        105.13668343, 105.37011896,  99.07551254, 104.15899829,\n",
       "         98.75108352],\n",
       "       [101.86186193, 103.61720152,  99.57859892,  99.4889538 ,\n",
       "        103.05541444,  98.65912661,  98.72774132, 104.70526438,\n",
       "        110.44484313],\n",
       "       [ 97.49594839,  96.59385486, 104.63817694, 102.55198606,\n",
       "        105.86078488,  96.5937781 ,  93.04610867,  99.92159953,\n",
       "        100.96781394],\n",
       "       [ 96.76814836,  91.6779221 , 101.79132774, 101.20773355,\n",
       "         98.29243952, 101.83845792,  97.94046856, 102.20618501,\n",
       "         91.37294597],\n",
       "       [106.89005002, 106.57364584, 102.26648279, 107.40064604,\n",
       "         99.94318168, 103.40412146, 106.38276709,  98.00253006,\n",
       "         97.10439252],\n",
       "       [ 99.80873105, 101.63973121, 106.46476468, 110.43976681,\n",
       "        100.69156231,  99.99579473, 101.32113654,  94.76253572,\n",
       "         97.24130034],\n",
       "       [ 96.10020311,  94.57421727, 100.80409326, 105.02389857,\n",
       "         98.61325194,  95.62359311,  97.99762409, 103.83852459,\n",
       "        101.2226037 ],\n",
       "       [ 94.11176915,  99.62387832, 104.51786419,  97.62787811,\n",
       "         93.97853495,  98.75108352, 106.05042487, 100.07721494,\n",
       "        106.89005002]])"
      ]
     },
     "execution_count": 12,
     "metadata": {},
     "output_type": "execute_result"
    }
   ],
   "source": [
    "dataset"
   ]
  },
  {
   "cell_type": "markdown",
   "metadata": {},
   "source": [
    "---"
   ]
  },
  {
   "cell_type": "markdown",
   "metadata": {},
   "source": [
    "#### Indexing"
   ]
  },
  {
   "cell_type": "markdown",
   "metadata": {},
   "source": [
    "Since we need several rows of our dataset to complete the given task, we have to use indexing to get the right rows.   \n",
    "To recap, we need: \n",
    "- the second row \n",
    "- the last row\n",
    "- the first value of the first row\n",
    "- the last value of the second to the last row"
   ]
  },
  {
   "cell_type": "code",
   "execution_count": 4,
   "metadata": {},
   "outputs": [
    {
     "data": {
      "text/plain": [
       "array([ 92.02628776,  97.10439252,  99.32066924,  97.24584816,\n",
       "        92.9267508 ,  92.65657752, 105.7197853 , 101.23162942,\n",
       "        93.87155456])"
      ]
     },
     "execution_count": 4,
     "metadata": {},
     "output_type": "execute_result"
    }
   ],
   "source": [
    "# indexing the second row of the dataset (2nd row)\n",
    "dataset[1]\n"
   ]
  },
  {
   "cell_type": "code",
   "execution_count": 5,
   "metadata": {},
   "outputs": [
    {
     "data": {
      "text/plain": [
       "array([ 94.11176915,  99.62387832, 104.51786419,  97.62787811,\n",
       "        93.97853495,  98.75108352, 106.05042487, 100.07721494,\n",
       "       106.89005002])"
      ]
     },
     "execution_count": 5,
     "metadata": {},
     "output_type": "execute_result"
    }
   ],
   "source": [
    "# indexing the last element of the dataset (last row)\n",
    "dataset[-1]\n"
   ]
  },
  {
   "cell_type": "code",
   "execution_count": 9,
   "metadata": {},
   "outputs": [
    {
     "name": "stdout",
     "output_type": "stream",
     "text": [
      "1 value, 2nd row: \t 92.02628776\n",
      "1st row, 1st value: \t 99.14931546\n"
     ]
    }
   ],
   "source": [
    "# indexing the first value of the second row (1st row, 1st value)\n",
    "print(\"1 value, 2nd row: \\t\",dataset[1,0])\n",
    "print(\"1st row, 1st value: \\t\",dataset[0,0])\n"
   ]
  },
  {
   "cell_type": "code",
   "execution_count": 40,
   "metadata": {},
   "outputs": [
    {
     "name": "stdout",
     "output_type": "stream",
     "text": [
      "101.2226037\n"
     ]
    },
    {
     "data": {
      "text/plain": [
       "101.2226037"
      ]
     },
     "execution_count": 40,
     "metadata": {},
     "output_type": "execute_result"
    }
   ],
   "source": [
    "# indexing the last value of the second to last row (we want to use the combined access syntax here) \n",
    "print(dataset[-2][-1])\n",
    "dataset[-2,-1]\n"
   ]
  },
  {
   "cell_type": "markdown",
   "metadata": {},
   "source": [
    "> The expressions dataset[-2][-1] and dataset[-2, -1] are not the same and will yield different results.  \n",
    "Let's assume dataset is a 2D NumPy array for clarity.  \n",
    "dataset[-2][-1]: This expression first accesses the second-to-last row of the dataset using dataset[-2], and then retrieves the last element of that row using [-1]. In other words, it performs two separate indexing operations.  \n",
    "dataset[-2, -1]: This expression performs a single indexing operation using a tuple of indices (-2, -1). It accesses the element at the second-to-last row and last column of the dataset.  \n",
    "Both expressions will output 6 in this case because the second-to-last row's last element in the dataset is 6.   However, the key distinction lies in how the indexing is performed, with dataset[-2][-1] using sequential indexing operations and dataset[-2, -1] utilizing a single indexing operation with a tuple of indices."
   ]
  },
  {
   "cell_type": "markdown",
   "metadata": {},
   "source": [
    "---"
   ]
  },
  {
   "cell_type": "markdown",
   "metadata": {},
   "source": [
    "#### Slicing"
   ]
  },
  {
   "cell_type": "markdown",
   "metadata": {},
   "source": [
    "Other than the single rows and values we also need to get some subsets of the dataset.   \n",
    "Here we want slices:\n",
    "- a 2x2 slice starting from the second row and second element to the 4th element in the 4th row\n",
    "- every other element of the 5th row\n",
    "- the content of the last row in reversed order"
   ]
  },
  {
   "cell_type": "code",
   "execution_count": 16,
   "metadata": {},
   "outputs": [
    {
     "name": "stdout",
     "output_type": "stream",
     "text": [
      "[[ 99.14931546 104.03852715 107.43534677  97.85230675  98.74986914]\n",
      " [ 92.02628776  97.10439252  99.32066924  97.24584816  92.9267508 ]\n",
      " [ 95.66253664  95.17750125  90.93318132 110.18889465  98.80084371]\n",
      " [ 91.37294597 100.96781394 100.40118279 113.42090475 105.48508838]\n",
      " [101.20862522 103.5730309  100.28690912 105.85269352  93.37126331]]\n"
     ]
    },
    {
     "data": {
      "text/plain": [
       "array([[97.10439252, 99.32066924],\n",
       "       [95.17750125, 90.93318132]])"
      ]
     },
     "execution_count": 16,
     "metadata": {},
     "output_type": "execute_result"
    }
   ],
   "source": [
    "# slicing an intersection of 4 elements (2x2) of the first two rows and first two columns\n",
    "print(dataset[:5,:5])\n",
    "d2=dataset[1:3,1:3]\n",
    "d2\n"
   ]
  },
  {
   "cell_type": "code",
   "execution_count": null,
   "metadata": {},
   "outputs": [],
   "source": []
  },
  {
   "cell_type": "markdown",
   "metadata": {},
   "source": [
    "##### Why is it not a problem if such a small subsection has a bigger standard deviation from 100?"
   ]
  },
  {
   "cell_type": "markdown",
   "metadata": {},
   "source": [
    "Several smaller values can cluster in such a small subsection leading to the value being really low.   \n",
    "If we make our subsection larger, we have a higher chance of getting a more expressive view of our data."
   ]
  },
  {
   "cell_type": "code",
   "execution_count": 24,
   "metadata": {},
   "outputs": [
    {
     "name": "stdout",
     "output_type": "stream",
     "text": [
      "5th row , every other column:\n",
      " [101.20862522 100.28690912  93.37126331 100.79478953  96.10020311]\n"
     ]
    }
   ],
   "source": [
    "# selecting every second element of the fifth row \n",
    "#- every other element of the 5th row\n",
    "# print(dataset[4])\n",
    "# print(dataset[4,::1]) # Steps stars form 1 base indexing. therefore, 1, will show each element\n",
    "print(\"5th row , every other column:\\n\",dataset[4,::2])\n"
   ]
  },
  {
   "cell_type": "code",
   "execution_count": 25,
   "metadata": {},
   "outputs": [
    {
     "name": "stdout",
     "output_type": "stream",
     "text": [
      "lastrow:\n",
      " [ 94.11176915  99.62387832 104.51786419  97.62787811  93.97853495\n",
      "  98.75108352 106.05042487 100.07721494 106.89005002]\n",
      "last row, reverse order:\n",
      " [106.89005002 100.07721494 106.05042487  98.75108352  93.97853495\n",
      "  97.62787811 104.51786419  99.62387832  94.11176915]\n"
     ]
    }
   ],
   "source": [
    "# reversing the entry order, selecting the first two rows in reversed order\n",
    "\n",
    "\n",
    "\n",
    "#- the content of the last row in reversed order\n",
    "print(\"lastrow:\\n\",dataset[-1])\n",
    "print(\"last row, reverse order:\\n\",dataset[-1,::-1])\n"
   ]
  },
  {
   "cell_type": "markdown",
   "metadata": {},
   "source": [
    "---"
   ]
  },
  {
   "cell_type": "markdown",
   "metadata": {},
   "source": [
    "#### Splitting"
   ]
  },
  {
   "cell_type": "markdown",
   "metadata": {},
   "source": [
    "Our client's team only wants to use a small subset of the given dataset.   \n",
    "Therefore we need to first split it into 3 equal pieces and then give them the first half of the first split.   \n",
    "They sent us this drawing to show us what they need:\n",
    "```\n",
    "1, 2, 3, 4, 5, 6          1, 2     3, 4    5, 6          1, 2  \n",
    "3, 2, 1, 5, 4, 6    =>    3, 2     1, 5    4, 6    =>    3, 2    =>    1, 2\n",
    "5, 3, 1, 2, 4, 3          5, 3     1, 2    4, 3                        3, 2\n",
    "1, 2, 2, 4, 1, 5          1, 2     2, 4    1, 5          5, 3\n",
    "                                                         1, 2\n",
    "```\n",
    "\n",
    "> **Note:**   \n",
    "We are using a very small dataset here but imagine you have a huge amount of data and only want to look at a small subset of it to tweak your visualizations"
   ]
  },
  {
   "cell_type": "code",
   "execution_count": 29,
   "metadata": {},
   "outputs": [
    {
     "name": "stdout",
     "output_type": "stream",
     "text": [
      "(24, 9)\n",
      "(12, 3)\n"
     ]
    },
    {
     "data": {
      "text/plain": [
       "array([[ 99.14931546, 104.03852715, 107.43534677],\n",
       "       [ 92.02628776,  97.10439252,  99.32066924],\n",
       "       [ 95.66253664,  95.17750125,  90.93318132],\n",
       "       [ 91.37294597, 100.96781394, 100.40118279],\n",
       "       [101.20862522, 103.5730309 , 100.28690912],\n",
       "       [102.80387079,  98.29687616,  93.24376389],\n",
       "       [106.71751618, 102.97585605,  98.45723272],\n",
       "       [ 96.02548256, 102.82360856, 106.47551845],\n",
       "       [105.30350449,  92.87730812, 103.19258339],\n",
       "       [110.44484313,  93.87155456, 101.5363647 ],\n",
       "       [101.3514185 , 100.37372248, 106.6471081 ],\n",
       "       [ 97.21315663, 107.02874163, 102.17642112]])"
      ]
     },
     "execution_count": 29,
     "metadata": {},
     "output_type": "execute_result"
    }
   ],
   "source": [
    "# splitting up our dataset horizontally on indices one third and two thirds\n",
    "d3=dataset.copy()\n",
    "# thirds=[]\n",
    "# for i in range(3):\n",
    "#     a=i*len(d3//3)\n",
    "#     b=i*len(d3//3)*3\n",
    "#     thirds.append(d3[:,a:b])\n",
    "# print(thirds[0])\n",
    "# print(thirds[0][:len(thirds[0])//2])\n",
    "\n",
    "# SECOND APPROACH\n",
    "# # Calculating the splitting indices\n",
    "# num_columns = data.shape[1]\n",
    "# split_indices = np.round(np.array([num_columns/3, 2*num_columns/3])).astype(int) => [3,6]\n",
    "# # Splitting the dataset horizontally on the calculated indices\n",
    "# left, middle, right = np.hsplit(data, split_indices) => hsplit can use multiple splits\n",
    "\n",
    "# THIRD APPROACH\n",
    "print(d3.shape)\n",
    "d4=d3[:d3.shape[0]//2, :d3.shape[1]//3]\n",
    "print(d4.shape)\n",
    "d4"
   ]
  },
  {
   "cell_type": "code",
   "execution_count": 35,
   "metadata": {},
   "outputs": [
    {
     "name": "stdout",
     "output_type": "stream",
     "text": [
      "(2, 9)\n",
      "(22, 9)\n"
     ]
    }
   ],
   "source": [
    "# splitting up our dataset vertically on index 2\n",
    "da = dataset[:2]\n",
    "db = dataset[2:]\n",
    "print(da.shape)\n",
    "print(db.shape)\n",
    "\n",
    "# Using built in functions\n",
    "d2a,d2b = np.hsplit(dataset, [2])\n"
   ]
  },
  {
   "cell_type": "markdown",
   "metadata": {},
   "source": [
    "---"
   ]
  },
  {
   "cell_type": "markdown",
   "metadata": {},
   "source": [
    "#### Iterating"
   ]
  },
  {
   "cell_type": "markdown",
   "metadata": {},
   "source": [
    "Once you sent over the dataset they tell you that they also need a way iterate over the whole dataset element by element as if it would be a one-dimensional list.   \n",
    "However, they want to also now the position in the dataset itself.\n",
    "\n",
    "They send you this piece of code and tell you that it's not working as mentioned.   \n",
    "Come up with the right solution for their needs."
   ]
  },
  {
   "cell_type": "code",
   "execution_count": 36,
   "metadata": {},
   "outputs": [
    {
     "name": "stdout",
     "output_type": "stream",
     "text": [
      "99.14931546 0\n",
      "104.03852715 1\n",
      "107.43534677 2\n",
      "97.85230675 3\n",
      "98.74986914 4\n",
      "98.80833412 5\n",
      "96.81964892 6\n",
      "98.56783189 7\n",
      "101.34745901 8\n",
      "92.02628776 9\n",
      "97.10439252 10\n",
      "99.32066924 11\n",
      "97.24584816 12\n",
      "92.9267508 13\n",
      "92.65657752 14\n",
      "105.7197853 15\n",
      "101.23162942 16\n",
      "93.87155456 17\n",
      "95.66253664 18\n",
      "95.17750125 19\n",
      "90.93318132 20\n",
      "110.18889465 21\n",
      "98.80084371 22\n",
      "105.95297652 23\n",
      "98.37481387 24\n",
      "106.54654286 25\n",
      "107.22482426 26\n",
      "91.37294597 27\n",
      "100.96781394 28\n",
      "100.40118279 29\n",
      "113.42090475 30\n",
      "105.48508838 31\n",
      "91.6604946 32\n",
      "106.1472841 33\n",
      "95.08715803 34\n",
      "103.40412146 35\n",
      "101.20862522 36\n",
      "103.5730309 37\n",
      "100.28690912 38\n",
      "105.85269352 39\n",
      "93.37126331 40\n",
      "108.57980357 41\n",
      "100.79478953 42\n",
      "94.20019732 43\n",
      "96.10020311 44\n",
      "102.80387079 45\n",
      "98.29687616 46\n",
      "93.24376389 47\n",
      "97.24130034 48\n",
      "89.03452725 49\n",
      "96.2832753 50\n",
      "104.60344836 51\n",
      "101.13442416 52\n",
      "97.62787811 53\n",
      "106.71751618 54\n",
      "102.97585605 55\n",
      "98.45723272 56\n",
      "100.72418901 57\n",
      "106.39798503 58\n",
      "95.46493436 59\n",
      "94.35373179 60\n",
      "106.83273763 61\n",
      "100.07721494 62\n",
      "96.02548256 63\n",
      "102.82360856 64\n",
      "106.47551845 65\n",
      "101.34745901 66\n",
      "102.45651798 67\n",
      "98.74767493 68\n",
      "97.57544275 69\n",
      "92.5748759 70\n",
      "91.37294597 71\n",
      "105.30350449 72\n",
      "92.87730812 73\n",
      "103.19258339 74\n",
      "104.40518318 75\n",
      "101.29326772 76\n",
      "100.85447132 77\n",
      "101.2226037 78\n",
      "106.03868807 79\n",
      "97.85230675 80\n",
      "110.44484313 81\n",
      "93.87155456 82\n",
      "101.5363647 83\n",
      "97.65393524 84\n",
      "92.75048583 85\n",
      "101.72074646 86\n",
      "96.96851209 87\n",
      "103.29147111 88\n",
      "99.14931546 89\n",
      "101.3514185 90\n",
      "100.37372248 91\n",
      "106.6471081 92\n",
      "100.61742813 93\n",
      "105.0320535 94\n",
      "99.35999981 95\n",
      "98.87007532 96\n",
      "95.85284217 97\n",
      "93.97853495 98\n",
      "97.21315663 99\n",
      "107.02874163 100\n",
      "102.17642112 101\n",
      "96.74630281 102\n",
      "95.93799169 103\n",
      "102.62384733 104\n",
      "105.07475277 105\n",
      "97.59572169 106\n",
      "106.57364584 107\n",
      "95.65982034 108\n",
      "107.22482426 109\n",
      "107.19119932 110\n",
      "102.93039474 111\n",
      "85.98839623 112\n",
      "95.19184343 113\n",
      "91.32093303 114\n",
      "102.35313953 115\n",
      "100.39303522 116\n",
      "100.39303522 117\n",
      "92.0108226 118\n",
      "97.75887636 119\n",
      "93.18884302 120\n",
      "100.44940274 121\n",
      "108.09423367 122\n",
      "96.50342927 123\n",
      "99.58664719 124\n",
      "95.19184343 125\n",
      "103.1521596 126\n",
      "109.40523174 127\n",
      "93.83969256 128\n",
      "99.95827854 129\n",
      "101.83462816 130\n",
      "99.69982772 131\n",
      "103.05289628 132\n",
      "103.93383957 133\n",
      "104.15899829 134\n",
      "106.11454989 135\n",
      "88.80221141 136\n",
      "94.5081787 137\n",
      "94.59300658 138\n",
      "101.08830521 139\n",
      "96.34622848 140\n",
      "96.89244283 141\n",
      "98.07122664 142\n",
      "100.28690912 143\n",
      "96.78266211 144\n",
      "99.84251605 145\n",
      "104.03478031 146\n",
      "106.57052697 147\n",
      "105.13668343 148\n",
      "105.37011896 149\n",
      "99.07551254 150\n",
      "104.15899829 151\n",
      "98.75108352 152\n",
      "101.86186193 153\n",
      "103.61720152 154\n",
      "99.57859892 155\n",
      "99.4889538 156\n",
      "103.05541444 157\n",
      "98.65912661 158\n",
      "98.72774132 159\n",
      "104.70526438 160\n",
      "110.44484313 161\n",
      "97.49594839 162\n",
      "96.59385486 163\n",
      "104.63817694 164\n",
      "102.55198606 165\n",
      "105.86078488 166\n",
      "96.5937781 167\n",
      "93.04610867 168\n",
      "99.92159953 169\n",
      "100.96781394 170\n",
      "96.76814836 171\n",
      "91.6779221 172\n",
      "101.79132774 173\n",
      "101.20773355 174\n",
      "98.29243952 175\n",
      "101.83845792 176\n",
      "97.94046856 177\n",
      "102.20618501 178\n",
      "91.37294597 179\n",
      "106.89005002 180\n",
      "106.57364584 181\n",
      "102.26648279 182\n",
      "107.40064604 183\n",
      "99.94318168 184\n",
      "103.40412146 185\n",
      "106.38276709 186\n",
      "98.00253006 187\n",
      "97.10439252 188\n",
      "99.80873105 189\n",
      "101.63973121 190\n",
      "106.46476468 191\n",
      "110.43976681 192\n",
      "100.69156231 193\n",
      "99.99579473 194\n",
      "101.32113654 195\n",
      "94.76253572 196\n",
      "97.24130034 197\n",
      "96.10020311 198\n",
      "94.57421727 199\n",
      "100.80409326 200\n",
      "105.02389857 201\n",
      "98.61325194 202\n",
      "95.62359311 203\n",
      "97.99762409 204\n",
      "103.83852459 205\n",
      "101.2226037 206\n",
      "94.11176915 207\n",
      "99.62387832 208\n",
      "104.51786419 209\n",
      "97.62787811 210\n",
      "93.97853495 211\n",
      "98.75108352 212\n",
      "106.05042487 213\n",
      "100.07721494 214\n",
      "106.89005002 215\n"
     ]
    }
   ],
   "source": [
    "# iterating over whole dataset (each value in each row)\n",
    "curr_index = 0\n",
    "for x in np.nditer(dataset):\n",
    "    print(x, curr_index)\n",
    "    curr_index += 1"
   ]
  },
  {
   "cell_type": "code",
   "execution_count": 38,
   "metadata": {},
   "outputs": [
    {
     "data": {
      "text/plain": [
       "array([ 99.14931546, 104.03852715, 107.43534677])"
      ]
     },
     "execution_count": 38,
     "metadata": {},
     "output_type": "execute_result"
    }
   ],
   "source": [
    "dataset[0][:3]"
   ]
  },
  {
   "cell_type": "code",
   "execution_count": 42,
   "metadata": {},
   "outputs": [
    {
     "name": "stdout",
     "output_type": "stream",
     "text": [
      "Index: (0, 0)  \t Value: 99.14931546\n",
      "Index: (0, 1)  \t Value: 104.03852715\n",
      "Index: (0, 2)  \t Value: 107.43534677\n",
      "Index: (0, 3)  \t Value: 97.85230675\n",
      "Index: (0, 4)  \t Value: 98.74986914\n",
      "Index: (0, 5)  \t Value: 98.80833412\n",
      "Index: (0, 6)  \t Value: 96.81964892\n",
      "Index: (0, 7)  \t Value: 98.56783189\n",
      "Index: (0, 8)  \t Value: 101.34745901\n",
      "Index: (1, 0)  \t Value: 92.02628776\n",
      "Index: (1, 1)  \t Value: 97.10439252\n",
      "Index: (1, 2)  \t Value: 99.32066924\n",
      "Index: (1, 3)  \t Value: 97.24584816\n",
      "Index: (1, 4)  \t Value: 92.9267508\n",
      "Index: (1, 5)  \t Value: 92.65657752\n",
      "Index: (1, 6)  \t Value: 105.7197853\n",
      "Index: (1, 7)  \t Value: 101.23162942\n",
      "Index: (1, 8)  \t Value: 93.87155456\n",
      "Index: (2, 0)  \t Value: 95.66253664\n",
      "Index: (2, 1)  \t Value: 95.17750125\n",
      "Index: (2, 2)  \t Value: 90.93318132\n",
      "Index: (2, 3)  \t Value: 110.18889465\n",
      "Index: (2, 4)  \t Value: 98.80084371\n",
      "Index: (2, 5)  \t Value: 105.95297652\n",
      "Index: (2, 6)  \t Value: 98.37481387\n",
      "Index: (2, 7)  \t Value: 106.54654286\n",
      "Index: (2, 8)  \t Value: 107.22482426\n",
      "Index: (3, 0)  \t Value: 91.37294597\n",
      "Index: (3, 1)  \t Value: 100.96781394\n",
      "Index: (3, 2)  \t Value: 100.40118279\n",
      "Index: (3, 3)  \t Value: 113.42090475\n",
      "Index: (3, 4)  \t Value: 105.48508838\n",
      "Index: (3, 5)  \t Value: 91.6604946\n",
      "Index: (3, 6)  \t Value: 106.1472841\n",
      "Index: (3, 7)  \t Value: 95.08715803\n",
      "Index: (3, 8)  \t Value: 103.40412146\n",
      "Index: (4, 0)  \t Value: 101.20862522\n",
      "Index: (4, 1)  \t Value: 103.5730309\n",
      "Index: (4, 2)  \t Value: 100.28690912\n",
      "Index: (4, 3)  \t Value: 105.85269352\n",
      "Index: (4, 4)  \t Value: 93.37126331\n",
      "Index: (4, 5)  \t Value: 108.57980357\n",
      "Index: (4, 6)  \t Value: 100.79478953\n",
      "Index: (4, 7)  \t Value: 94.20019732\n",
      "Index: (4, 8)  \t Value: 96.10020311\n",
      "Index: (5, 0)  \t Value: 102.80387079\n",
      "Index: (5, 1)  \t Value: 98.29687616\n",
      "Index: (5, 2)  \t Value: 93.24376389\n",
      "Index: (5, 3)  \t Value: 97.24130034\n",
      "Index: (5, 4)  \t Value: 89.03452725\n",
      "Index: (5, 5)  \t Value: 96.2832753\n",
      "Index: (5, 6)  \t Value: 104.60344836\n",
      "Index: (5, 7)  \t Value: 101.13442416\n",
      "Index: (5, 8)  \t Value: 97.62787811\n",
      "Index: (6, 0)  \t Value: 106.71751618\n",
      "Index: (6, 1)  \t Value: 102.97585605\n",
      "Index: (6, 2)  \t Value: 98.45723272\n",
      "Index: (6, 3)  \t Value: 100.72418901\n",
      "Index: (6, 4)  \t Value: 106.39798503\n",
      "Index: (6, 5)  \t Value: 95.46493436\n",
      "Index: (6, 6)  \t Value: 94.35373179\n",
      "Index: (6, 7)  \t Value: 106.83273763\n",
      "Index: (6, 8)  \t Value: 100.07721494\n",
      "Index: (7, 0)  \t Value: 96.02548256\n",
      "Index: (7, 1)  \t Value: 102.82360856\n",
      "Index: (7, 2)  \t Value: 106.47551845\n",
      "Index: (7, 3)  \t Value: 101.34745901\n",
      "Index: (7, 4)  \t Value: 102.45651798\n",
      "Index: (7, 5)  \t Value: 98.74767493\n",
      "Index: (7, 6)  \t Value: 97.57544275\n",
      "Index: (7, 7)  \t Value: 92.5748759\n",
      "Index: (7, 8)  \t Value: 91.37294597\n",
      "Index: (8, 0)  \t Value: 105.30350449\n",
      "Index: (8, 1)  \t Value: 92.87730812\n",
      "Index: (8, 2)  \t Value: 103.19258339\n",
      "Index: (8, 3)  \t Value: 104.40518318\n",
      "Index: (8, 4)  \t Value: 101.29326772\n",
      "Index: (8, 5)  \t Value: 100.85447132\n",
      "Index: (8, 6)  \t Value: 101.2226037\n",
      "Index: (8, 7)  \t Value: 106.03868807\n",
      "Index: (8, 8)  \t Value: 97.85230675\n",
      "Index: (9, 0)  \t Value: 110.44484313\n",
      "Index: (9, 1)  \t Value: 93.87155456\n",
      "Index: (9, 2)  \t Value: 101.5363647\n",
      "Index: (9, 3)  \t Value: 97.65393524\n",
      "Index: (9, 4)  \t Value: 92.75048583\n",
      "Index: (9, 5)  \t Value: 101.72074646\n",
      "Index: (9, 6)  \t Value: 96.96851209\n",
      "Index: (9, 7)  \t Value: 103.29147111\n",
      "Index: (9, 8)  \t Value: 99.14931546\n",
      "Index: (10, 0)  \t Value: 101.3514185\n",
      "Index: (10, 1)  \t Value: 100.37372248\n",
      "Index: (10, 2)  \t Value: 106.6471081\n",
      "Index: (10, 3)  \t Value: 100.61742813\n",
      "Index: (10, 4)  \t Value: 105.0320535\n",
      "Index: (10, 5)  \t Value: 99.35999981\n",
      "Index: (10, 6)  \t Value: 98.87007532\n",
      "Index: (10, 7)  \t Value: 95.85284217\n",
      "Index: (10, 8)  \t Value: 93.97853495\n",
      "Index: (11, 0)  \t Value: 97.21315663\n",
      "Index: (11, 1)  \t Value: 107.02874163\n",
      "Index: (11, 2)  \t Value: 102.17642112\n",
      "Index: (11, 3)  \t Value: 96.74630281\n",
      "Index: (11, 4)  \t Value: 95.93799169\n",
      "Index: (11, 5)  \t Value: 102.62384733\n",
      "Index: (11, 6)  \t Value: 105.07475277\n",
      "Index: (11, 7)  \t Value: 97.59572169\n",
      "Index: (11, 8)  \t Value: 106.57364584\n",
      "Index: (12, 0)  \t Value: 95.65982034\n",
      "Index: (12, 1)  \t Value: 107.22482426\n",
      "Index: (12, 2)  \t Value: 107.19119932\n",
      "Index: (12, 3)  \t Value: 102.93039474\n",
      "Index: (12, 4)  \t Value: 85.98839623\n",
      "Index: (12, 5)  \t Value: 95.19184343\n",
      "Index: (12, 6)  \t Value: 91.32093303\n",
      "Index: (12, 7)  \t Value: 102.35313953\n",
      "Index: (12, 8)  \t Value: 100.39303522\n",
      "Index: (13, 0)  \t Value: 100.39303522\n",
      "Index: (13, 1)  \t Value: 92.0108226\n",
      "Index: (13, 2)  \t Value: 97.75887636\n",
      "Index: (13, 3)  \t Value: 93.18884302\n",
      "Index: (13, 4)  \t Value: 100.44940274\n",
      "Index: (13, 5)  \t Value: 108.09423367\n",
      "Index: (13, 6)  \t Value: 96.50342927\n",
      "Index: (13, 7)  \t Value: 99.58664719\n",
      "Index: (13, 8)  \t Value: 95.19184343\n",
      "Index: (14, 0)  \t Value: 103.1521596\n",
      "Index: (14, 1)  \t Value: 109.40523174\n",
      "Index: (14, 2)  \t Value: 93.83969256\n",
      "Index: (14, 3)  \t Value: 99.95827854\n",
      "Index: (14, 4)  \t Value: 101.83462816\n",
      "Index: (14, 5)  \t Value: 99.69982772\n",
      "Index: (14, 6)  \t Value: 103.05289628\n",
      "Index: (14, 7)  \t Value: 103.93383957\n",
      "Index: (14, 8)  \t Value: 104.15899829\n",
      "Index: (15, 0)  \t Value: 106.11454989\n",
      "Index: (15, 1)  \t Value: 88.80221141\n",
      "Index: (15, 2)  \t Value: 94.5081787\n",
      "Index: (15, 3)  \t Value: 94.59300658\n",
      "Index: (15, 4)  \t Value: 101.08830521\n",
      "Index: (15, 5)  \t Value: 96.34622848\n",
      "Index: (15, 6)  \t Value: 96.89244283\n",
      "Index: (15, 7)  \t Value: 98.07122664\n",
      "Index: (15, 8)  \t Value: 100.28690912\n",
      "Index: (16, 0)  \t Value: 96.78266211\n",
      "Index: (16, 1)  \t Value: 99.84251605\n",
      "Index: (16, 2)  \t Value: 104.03478031\n",
      "Index: (16, 3)  \t Value: 106.57052697\n",
      "Index: (16, 4)  \t Value: 105.13668343\n",
      "Index: (16, 5)  \t Value: 105.37011896\n",
      "Index: (16, 6)  \t Value: 99.07551254\n",
      "Index: (16, 7)  \t Value: 104.15899829\n",
      "Index: (16, 8)  \t Value: 98.75108352\n",
      "Index: (17, 0)  \t Value: 101.86186193\n",
      "Index: (17, 1)  \t Value: 103.61720152\n",
      "Index: (17, 2)  \t Value: 99.57859892\n",
      "Index: (17, 3)  \t Value: 99.4889538\n",
      "Index: (17, 4)  \t Value: 103.05541444\n",
      "Index: (17, 5)  \t Value: 98.65912661\n",
      "Index: (17, 6)  \t Value: 98.72774132\n",
      "Index: (17, 7)  \t Value: 104.70526438\n",
      "Index: (17, 8)  \t Value: 110.44484313\n",
      "Index: (18, 0)  \t Value: 97.49594839\n",
      "Index: (18, 1)  \t Value: 96.59385486\n",
      "Index: (18, 2)  \t Value: 104.63817694\n",
      "Index: (18, 3)  \t Value: 102.55198606\n",
      "Index: (18, 4)  \t Value: 105.86078488\n",
      "Index: (18, 5)  \t Value: 96.5937781\n",
      "Index: (18, 6)  \t Value: 93.04610867\n",
      "Index: (18, 7)  \t Value: 99.92159953\n",
      "Index: (18, 8)  \t Value: 100.96781394\n",
      "Index: (19, 0)  \t Value: 96.76814836\n",
      "Index: (19, 1)  \t Value: 91.6779221\n",
      "Index: (19, 2)  \t Value: 101.79132774\n",
      "Index: (19, 3)  \t Value: 101.20773355\n",
      "Index: (19, 4)  \t Value: 98.29243952\n",
      "Index: (19, 5)  \t Value: 101.83845792\n",
      "Index: (19, 6)  \t Value: 97.94046856\n",
      "Index: (19, 7)  \t Value: 102.20618501\n",
      "Index: (19, 8)  \t Value: 91.37294597\n",
      "Index: (20, 0)  \t Value: 106.89005002\n",
      "Index: (20, 1)  \t Value: 106.57364584\n",
      "Index: (20, 2)  \t Value: 102.26648279\n",
      "Index: (20, 3)  \t Value: 107.40064604\n",
      "Index: (20, 4)  \t Value: 99.94318168\n",
      "Index: (20, 5)  \t Value: 103.40412146\n",
      "Index: (20, 6)  \t Value: 106.38276709\n",
      "Index: (20, 7)  \t Value: 98.00253006\n",
      "Index: (20, 8)  \t Value: 97.10439252\n",
      "Index: (21, 0)  \t Value: 99.80873105\n",
      "Index: (21, 1)  \t Value: 101.63973121\n",
      "Index: (21, 2)  \t Value: 106.46476468\n",
      "Index: (21, 3)  \t Value: 110.43976681\n",
      "Index: (21, 4)  \t Value: 100.69156231\n",
      "Index: (21, 5)  \t Value: 99.99579473\n",
      "Index: (21, 6)  \t Value: 101.32113654\n",
      "Index: (21, 7)  \t Value: 94.76253572\n",
      "Index: (21, 8)  \t Value: 97.24130034\n",
      "Index: (22, 0)  \t Value: 96.10020311\n",
      "Index: (22, 1)  \t Value: 94.57421727\n",
      "Index: (22, 2)  \t Value: 100.80409326\n",
      "Index: (22, 3)  \t Value: 105.02389857\n",
      "Index: (22, 4)  \t Value: 98.61325194\n",
      "Index: (22, 5)  \t Value: 95.62359311\n",
      "Index: (22, 6)  \t Value: 97.99762409\n",
      "Index: (22, 7)  \t Value: 103.83852459\n",
      "Index: (22, 8)  \t Value: 101.2226037\n",
      "Index: (23, 0)  \t Value: 94.11176915\n",
      "Index: (23, 1)  \t Value: 99.62387832\n",
      "Index: (23, 2)  \t Value: 104.51786419\n",
      "Index: (23, 3)  \t Value: 97.62787811\n",
      "Index: (23, 4)  \t Value: 93.97853495\n",
      "Index: (23, 5)  \t Value: 98.75108352\n",
      "Index: (23, 6)  \t Value: 106.05042487\n",
      "Index: (23, 7)  \t Value: 100.07721494\n",
      "Index: (23, 8)  \t Value: 106.89005002\n"
     ]
    }
   ],
   "source": [
    "# iterating over the whole dataset with indices matching the position in the dataset\n",
    "    \n",
    "for index, value in np.ndenumerate(dataset):\n",
    "    print(\"Index:\",index,\" \\t Value:\",value)"
   ]
  },
  {
   "cell_type": "markdown",
   "metadata": {},
   "source": [
    "**NOTE:**  \n",
    "- **nditer**: will iterate each element, returning the next item at each loop\n",
    "- **ndenumerate**: will enumerate each object, returning index and next.item"
   ]
  },
  {
   "cell_type": "code",
   "execution_count": null,
   "metadata": {},
   "outputs": [],
   "source": []
  }
 ],
 "metadata": {
  "kernelspec": {
   "display_name": "Python 3 (ipykernel)",
   "language": "python",
   "name": "python3"
  },
  "language_info": {
   "codemirror_mode": {
    "name": "ipython",
    "version": 3
   },
   "file_extension": ".py",
   "mimetype": "text/x-python",
   "name": "python",
   "nbconvert_exporter": "python",
   "pygments_lexer": "ipython3",
   "version": "3.9.12"
  }
 },
 "nbformat": 4,
 "nbformat_minor": 4
}
